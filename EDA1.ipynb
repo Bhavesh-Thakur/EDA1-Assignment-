{
  "nbformat": 4,
  "nbformat_minor": 0,
  "metadata": {
    "colab": {
      "provenance": [],
      "authorship_tag": "ABX9TyNT0xgzADit21g/cnKFAe8r",
      "include_colab_link": true
    },
    "kernelspec": {
      "name": "python3",
      "display_name": "Python 3"
    },
    "language_info": {
      "name": "python"
    }
  },
  "cells": [
    {
      "cell_type": "markdown",
      "metadata": {
        "id": "view-in-github",
        "colab_type": "text"
      },
      "source": [
        "<a href=\"https://colab.research.google.com/github/Bhavesh-Thakur/EDA1-Assignment-/blob/main/EDA1.ipynb\" target=\"_parent\"><img src=\"https://colab.research.google.com/assets/colab-badge.svg\" alt=\"Open In Colab\"/></a>"
      ]
    },
    {
      "cell_type": "code",
      "source": [
        "import pandas as pd\n",
        "import matplotlib.pyplot as plt\n",
        "import seaborn as sns"
      ],
      "metadata": {
        "id": "MDQi7lK4R1sc"
      },
      "execution_count": 1,
      "outputs": []
    },
    {
      "cell_type": "code",
      "source": [
        "data = pd.read_csv('Heart Failure Clinical Records Dataset.csv')\n",
        "\n",
        "data.head()"
      ],
      "metadata": {
        "id": "EfZeUM1-R4t-"
      },
      "execution_count": null,
      "outputs": []
    },
    {
      "cell_type": "markdown",
      "source": [
        "1. Distribution of age among heart failure patients"
      ],
      "metadata": {
        "id": "DRuwSQvvSqDr"
      }
    },
    {
      "cell_type": "code",
      "source": [
        "\n",
        "\n",
        "plt.figure(figsize=(10, 6))\n",
        "sns.histplot(data['Age'], bins=10, kde=True)\n",
        "plt.title('Distribution of Age among Heart Failure Patients')\n",
        "plt.xlabel('Age')\n",
        "plt.ylabel('Frequency')\n",
        "plt.show()"
      ],
      "metadata": {
        "id": "IUBqweZ5SrtB"
      },
      "execution_count": null,
      "outputs": []
    },
    {
      "cell_type": "markdown",
      "source": [
        "2.How does the death rate vary with age"
      ],
      "metadata": {
        "id": "OYUFSGuMS1Q1"
      }
    },
    {
      "cell_type": "code",
      "source": [
        "plt.figure(figsize=(10, 6))\n",
        "sns.boxplot(x='DEATH_EVENT', y='Age', data=data)\n",
        "plt.title('Death Rate Variation with Age')\n",
        "plt.xlabel('Death Event (0: Survived, 1: Died)')\n",
        "plt.ylabel('Age')\n",
        "plt.show()"
      ],
      "metadata": {
        "id": "W9KUIxyZTMyO"
      },
      "execution_count": null,
      "outputs": []
    },
    {
      "cell_type": "markdown",
      "source": [
        "3.What is the percentage of male and female patients in the dataset?"
      ],
      "metadata": {
        "id": "oN-i-DdyTgLn"
      }
    },
    {
      "cell_type": "code",
      "source": [
        "gender_counts = data['Sex'].value_counts(normalize=True) * 100\n",
        "print(f\"Percentage of Male Patients: {gender_counts[1]:.2f}%\")\n",
        "print(f\"Percentage of Female Patients: {gender_counts[0]:.2f}%\")"
      ],
      "metadata": {
        "id": "Qps3kTJbTsfV"
      },
      "execution_count": null,
      "outputs": []
    },
    {
      "cell_type": "markdown",
      "source": [
        "4.How does the platelet count vary among different age group."
      ],
      "metadata": {
        "id": "1O8QAxxCTwsk"
      }
    },
    {
      "cell_type": "code",
      "source": [
        "plt.figure(figsize=(10, 6))\n",
        "sns.scatterplot(x='Age', y='Platelets', data=data)\n",
        "plt.title('Platelet Count Variation across Age Groups')\n",
        "plt.xlabel('Age')\n",
        "plt.ylabel('Platelets')\n",
        "plt.show()"
      ],
      "metadata": {
        "id": "ARRf2LBzT5rx"
      },
      "execution_count": null,
      "outputs": []
    },
    {
      "cell_type": "markdown",
      "source": [
        "5. Is there a correlation between creatinine and sodium levels in the blood"
      ],
      "metadata": {
        "id": "xfSrks7BT-bY"
      }
    },
    {
      "cell_type": "code",
      "source": [
        "correlation = data[['Serum Creatinine', 'Serum Sodium']].corr()\n",
        "print(correlation)\n",
        "\n",
        "plt.figure(figsize=(8, 6))\n",
        "sns.heatmap(correlation, annot=True, cmap='coolwarm')\n",
        "plt.title('Correlation between Creatinine and Sodium Levels')\n",
        "plt.show()"
      ],
      "metadata": {
        "id": "ry9cxIS3UK_J"
      },
      "execution_count": null,
      "outputs": []
    },
    {
      "cell_type": "markdown",
      "source": [
        "6. How does the prevalence of high blood pressure differ between male and female patients."
      ],
      "metadata": {
        "id": "tNz3FUhuUQ27"
      }
    },
    {
      "cell_type": "code",
      "source": [
        "plt.figure(figsize=(8, 6))\n",
        "sns.countplot(x='High Blood Pressure', hue='Sex', data=data)\n",
        "plt.title('Prevalence of High Blood Pressure by Gender')\n",
        "plt.xlabel('High Blood Pressure (0: No, 1: Yes)')\n",
        "plt.ylabel('Count')\n",
        "plt.show()"
      ],
      "metadata": {
        "id": "uhuuncP4UWx7"
      },
      "execution_count": null,
      "outputs": []
    },
    {
      "cell_type": "markdown",
      "source": [
        "7.What is the relationship between smoking habits and the occurrence of heart failure."
      ],
      "metadata": {
        "id": "vHeRJPhjUZpU"
      }
    },
    {
      "cell_type": "code",
      "source": [
        "plt.figure(figsize=(8, 6))\n",
        "sns.countplot(x='Smoking', hue='DEATH_EVENT', data=data)\n",
        "plt.title('Smoking Habits and Occurrence of Heart Failure')\n",
        "plt.xlabel('Smoking (0: No, 1: Yes)')\n",
        "plt.ylabel('Count')\n",
        "plt.show()"
      ],
      "metadata": {
        "id": "ZalHIl9PUgsZ"
      },
      "execution_count": null,
      "outputs": []
    },
    {
      "cell_type": "markdown",
      "source": [
        "8.Are there any noticeable patterns in the distribution of death events across different age groups."
      ],
      "metadata": {
        "id": "u4ktBTeRUl5X"
      }
    },
    {
      "cell_type": "code",
      "source": [
        "plt.figure(figsize=(10, 6))\n",
        "sns.histplot(data=data, x='Age', hue='DEATH_EVENT', bins=10, kde=True)\n",
        "plt.title('Death Events across Age Groups')\n",
        "plt.xlabel('Age')\n",
        "plt.ylabel('Frequency')\n",
        "plt.show()"
      ],
      "metadata": {
        "id": "AsKa7LW2UvQk"
      },
      "execution_count": null,
      "outputs": []
    },
    {
      "cell_type": "markdown",
      "source": [
        "9. Is there any significant difference in ejection fraction between patients with and without diabetes."
      ],
      "metadata": {
        "id": "7o7D7rucUxlF"
      }
    },
    {
      "cell_type": "code",
      "source": [
        "plt.figure(figsize=(10, 6))\n",
        "sns.boxplot(x='Diabetes', y='Ejection Fraction', data=data)\n",
        "plt.title('Ejection Fraction by Diabetes Status')\n",
        "plt.xlabel('Diabetes (0: No, 1: Yes)')\n",
        "plt.ylabel('Ejection Fraction')\n",
        "plt.show()"
      ],
      "metadata": {
        "id": "NG7PTarFVAMC"
      },
      "execution_count": null,
      "outputs": []
    },
    {
      "cell_type": "markdown",
      "source": [
        "10.How does the serum creatinine level vary between patients who survived and those who did not?"
      ],
      "metadata": {
        "id": "ag9bB7z2VGza"
      }
    },
    {
      "cell_type": "code",
      "source": [
        "plt.figure(figsize=(10, 6))\n",
        "sns.boxplot(x='DEATH_EVENT', y='Serum Creatinine', data=data)\n",
        "plt.title('Serum Creatinine Level for Survivors and Non-Survivors')\n",
        "plt.xlabel('Death Event (0: Survived, 1: Died)')\n",
        "plt.ylabel('Serum Creatinine Level')\n",
        "plt.show()"
      ],
      "metadata": {
        "id": "zbbR4AfAVKiY"
      },
      "execution_count": null,
      "outputs": []
    }
  ]
}